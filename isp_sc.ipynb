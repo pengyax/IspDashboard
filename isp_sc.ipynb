{
 "cells": [
  {
   "cell_type": "code",
   "execution_count": 62,
   "metadata": {},
   "outputs": [],
   "source": [
    "import pandas as pd\n",
    "import numpy as np\n",
    "from datetime import datetime,timedelta\n",
    "import calendar"
   ]
  },
  {
   "cell_type": "code",
   "execution_count": 63,
   "metadata": {},
   "outputs": [],
   "source": [
    "df = pd.read_excel('./ISPdatabase.xlsx')"
   ]
  },
  {
   "cell_type": "code",
   "execution_count": 64,
   "metadata": {},
   "outputs": [],
   "source": [
    "vendor_mapping = pd.read_excel(r'C:\\Medline\\2. CPM\\data\\vendor_mapping\\Vendor _mapping 2024_v1.xlsx')\n",
    "vendor_mapping['Vendor Number'] = vendor_mapping['Vendor Number'].map(str)\n",
    "vendor_mapping_dict = dict(zip(vendor_mapping['Vendor Number'],vendor_mapping['Cleaned Vendor Name']))\n"
   ]
  },
  {
   "cell_type": "code",
   "execution_count": 65,
   "metadata": {},
   "outputs": [],
   "source": [
    "df_isp_buom_2022 = pd.read_excel(r'C:\\Medline\\2. CPM\\4. CPM by BUOM\\BUOM Database\\history\\ISP_ShippingData_2022.xlsx',usecols='A,C,D,AA,BD')\n",
    "df_isp_buom_2023 = pd.read_excel(r'C:\\Medline\\2. CPM\\4. CPM by BUOM\\BUOM Database\\history\\ISP_ShippingData_2023.xlsx',usecols='A,C,D,AA,BD')\n",
    "df_isp_buom = pd.concat([df_isp_buom_2023,df_isp_buom_2022],ignore_index=True)\n",
    "df_isp_buom['VendorNumber'] = df_isp_buom['VendorNumber'].map(str)"
   ]
  },
  {
   "cell_type": "code",
   "execution_count": 66,
   "metadata": {},
   "outputs": [],
   "source": [
    "vendor_mapping_inspection = vendor_mapping.loc[(~vendor_mapping['Regional Manager'].isin(['Exemption','US vendor']))&(vendor_mapping['Regional Manager'].notnull()),'Vendor Number'].to_list()\n",
    "df_isp_buom = df_isp_buom.loc[df_isp_buom['VendorNumber'].isin(vendor_mapping_inspection)]\n",
    "df_isp_buom['VendorName'] = df_isp_buom['VendorNumber'].apply(lambda x : vendor_mapping_dict.get(x,np.nan))"
   ]
  },
  {
   "cell_type": "code",
   "execution_count": 67,
   "metadata": {},
   "outputs": [
    {
     "data": {
      "text/html": [
       "<div>\n",
       "<style scoped>\n",
       "    .dataframe tbody tr th:only-of-type {\n",
       "        vertical-align: middle;\n",
       "    }\n",
       "\n",
       "    .dataframe tbody tr th {\n",
       "        vertical-align: top;\n",
       "    }\n",
       "\n",
       "    .dataframe thead th {\n",
       "        text-align: right;\n",
       "    }\n",
       "</style>\n",
       "<table border=\"1\" class=\"dataframe\">\n",
       "  <thead>\n",
       "    <tr style=\"text-align: right;\">\n",
       "      <th></th>\n",
       "      <th>SourceERPInd</th>\n",
       "      <th>ProductDivisionCode</th>\n",
       "      <th>VendorNumber</th>\n",
       "      <th>BUOMShipmentQty</th>\n",
       "      <th>ShipmentDate</th>\n",
       "      <th>VendorName</th>\n",
       "    </tr>\n",
       "  </thead>\n",
       "  <tbody>\n",
       "    <tr>\n",
       "      <th>0</th>\n",
       "      <td>QADEU</td>\n",
       "      <td>21</td>\n",
       "      <td>147612</td>\n",
       "      <td>1440.0</td>\n",
       "      <td>2023-01-07</td>\n",
       "      <td>LIANYUNGANG ANSON NON WOVEN PRODUC</td>\n",
       "    </tr>\n",
       "    <tr>\n",
       "      <th>1</th>\n",
       "      <td>QADEU</td>\n",
       "      <td>21</td>\n",
       "      <td>147612</td>\n",
       "      <td>2880.0</td>\n",
       "      <td>2023-02-04</td>\n",
       "      <td>LIANYUNGANG ANSON NON WOVEN PRODUC</td>\n",
       "    </tr>\n",
       "    <tr>\n",
       "      <th>2</th>\n",
       "      <td>QADEU</td>\n",
       "      <td>21</td>\n",
       "      <td>147612</td>\n",
       "      <td>1080.0</td>\n",
       "      <td>2023-04-14</td>\n",
       "      <td>LIANYUNGANG ANSON NON WOVEN PRODUC</td>\n",
       "    </tr>\n",
       "    <tr>\n",
       "      <th>3</th>\n",
       "      <td>QADEU</td>\n",
       "      <td>21</td>\n",
       "      <td>147612</td>\n",
       "      <td>1080.0</td>\n",
       "      <td>2023-04-14</td>\n",
       "      <td>LIANYUNGANG ANSON NON WOVEN PRODUC</td>\n",
       "    </tr>\n",
       "    <tr>\n",
       "      <th>4</th>\n",
       "      <td>QADEU</td>\n",
       "      <td>21</td>\n",
       "      <td>147612</td>\n",
       "      <td>720.0</td>\n",
       "      <td>2023-07-03</td>\n",
       "      <td>LIANYUNGANG ANSON NON WOVEN PRODUC</td>\n",
       "    </tr>\n",
       "    <tr>\n",
       "      <th>...</th>\n",
       "      <td>...</td>\n",
       "      <td>...</td>\n",
       "      <td>...</td>\n",
       "      <td>...</td>\n",
       "      <td>...</td>\n",
       "      <td>...</td>\n",
       "    </tr>\n",
       "    <tr>\n",
       "      <th>150791</th>\n",
       "      <td>SAPCA</td>\n",
       "      <td>40</td>\n",
       "      <td>130324</td>\n",
       "      <td>174000.0</td>\n",
       "      <td>2022-10-04</td>\n",
       "      <td>HONGRAY (USA) MEDICAL PRODUCTS INC</td>\n",
       "    </tr>\n",
       "    <tr>\n",
       "      <th>150792</th>\n",
       "      <td>SAPCA</td>\n",
       "      <td>40</td>\n",
       "      <td>130324</td>\n",
       "      <td>690000.0</td>\n",
       "      <td>2022-12-10</td>\n",
       "      <td>HONGRAY (USA) MEDICAL PRODUCTS INC</td>\n",
       "    </tr>\n",
       "    <tr>\n",
       "      <th>150793</th>\n",
       "      <td>SAPCA</td>\n",
       "      <td>40</td>\n",
       "      <td>130324</td>\n",
       "      <td>690000.0</td>\n",
       "      <td>2022-12-10</td>\n",
       "      <td>HONGRAY (USA) MEDICAL PRODUCTS INC</td>\n",
       "    </tr>\n",
       "    <tr>\n",
       "      <th>150794</th>\n",
       "      <td>SAPCA</td>\n",
       "      <td>40</td>\n",
       "      <td>122928</td>\n",
       "      <td>110000.0</td>\n",
       "      <td>2022-07-27</td>\n",
       "      <td>BETTER HEALTH MEDICAL PRODUCTS HONG</td>\n",
       "    </tr>\n",
       "    <tr>\n",
       "      <th>150795</th>\n",
       "      <td>SAPCA</td>\n",
       "      <td>40</td>\n",
       "      <td>122928</td>\n",
       "      <td>300000.0</td>\n",
       "      <td>2022-09-04</td>\n",
       "      <td>BETTER HEALTH MEDICAL PRODUCTS HONG</td>\n",
       "    </tr>\n",
       "  </tbody>\n",
       "</table>\n",
       "<p>145958 rows × 6 columns</p>\n",
       "</div>"
      ],
      "text/plain": [
       "       SourceERPInd  ProductDivisionCode VendorNumber  BUOMShipmentQty  \\\n",
       "0             QADEU                   21       147612           1440.0   \n",
       "1             QADEU                   21       147612           2880.0   \n",
       "2             QADEU                   21       147612           1080.0   \n",
       "3             QADEU                   21       147612           1080.0   \n",
       "4             QADEU                   21       147612            720.0   \n",
       "...             ...                  ...          ...              ...   \n",
       "150791        SAPCA                   40       130324         174000.0   \n",
       "150792        SAPCA                   40       130324         690000.0   \n",
       "150793        SAPCA                   40       130324         690000.0   \n",
       "150794        SAPCA                   40       122928         110000.0   \n",
       "150795        SAPCA                   40       122928         300000.0   \n",
       "\n",
       "       ShipmentDate                           VendorName  \n",
       "0        2023-01-07   LIANYUNGANG ANSON NON WOVEN PRODUC  \n",
       "1        2023-02-04   LIANYUNGANG ANSON NON WOVEN PRODUC  \n",
       "2        2023-04-14   LIANYUNGANG ANSON NON WOVEN PRODUC  \n",
       "3        2023-04-14   LIANYUNGANG ANSON NON WOVEN PRODUC  \n",
       "4        2023-07-03   LIANYUNGANG ANSON NON WOVEN PRODUC  \n",
       "...             ...                                  ...  \n",
       "150791   2022-10-04   HONGRAY (USA) MEDICAL PRODUCTS INC  \n",
       "150792   2022-12-10   HONGRAY (USA) MEDICAL PRODUCTS INC  \n",
       "150793   2022-12-10   HONGRAY (USA) MEDICAL PRODUCTS INC  \n",
       "150794   2022-07-27  BETTER HEALTH MEDICAL PRODUCTS HONG  \n",
       "150795   2022-09-04  BETTER HEALTH MEDICAL PRODUCTS HONG  \n",
       "\n",
       "[145958 rows x 6 columns]"
      ]
     },
     "execution_count": 67,
     "metadata": {},
     "output_type": "execute_result"
    }
   ],
   "source": [
    "df_isp_buom"
   ]
  },
  {
   "cell_type": "code",
   "execution_count": 68,
   "metadata": {},
   "outputs": [],
   "source": [
    "df_isp_buom.rename(columns={'SourceERPInd': 'Market',\n",
    "                                 'ProductDivisionCode':'Division',\n",
    "                                 'BUOMShipmentQty':'BUOM'\n",
    "                                 }, inplace=True)\n",
    "df_isp_buom['Year'] = df_isp_buom['ShipmentDate'].dt.year\n",
    "df_isp_buom['Month'] = df_isp_buom['ShipmentDate'].dt.month\n",
    "df_isp_buom['Market'].replace({'QADEU':'EU',\n",
    "                                    'MFGEU':'EU',\n",
    "                                    'QADAU':'ANZ',\n",
    "                                    'QADJP':'JAPAN'\n",
    "                                    },inplace=True)\n",
    "df_isp_buom = df_isp_buom.loc[df_isp_buom['Market'].isin(['EU','ANZ','JAPAN'])]"
   ]
  },
  {
   "cell_type": "code",
   "execution_count": 69,
   "metadata": {},
   "outputs": [],
   "source": [
    "df_isp_buom_gy = df_isp_buom.groupby(['Market','VendorName','Division','Year','Month'],as_index=False)['BUOM'].sum()"
   ]
  },
  {
   "cell_type": "code",
   "execution_count": 70,
   "metadata": {},
   "outputs": [],
   "source": [
    "df_gy = df.groupby(['Market','VendorName','Division','Year','Month'],as_index=False).size()"
   ]
  },
  {
   "cell_type": "code",
   "execution_count": 71,
   "metadata": {},
   "outputs": [],
   "source": [
    "df_isp_buom_gy.merge(df_gy,how='outer',on=['Market','VendorName','Division','Year','Month']).fillna(0).to_excel('./out.xlsx')"
   ]
  },
  {
   "cell_type": "code",
   "execution_count": null,
   "metadata": {},
   "outputs": [],
   "source": []
  }
 ],
 "metadata": {
  "kernelspec": {
   "display_name": "Python 3",
   "language": "python",
   "name": "python3"
  },
  "language_info": {
   "codemirror_mode": {
    "name": "ipython",
    "version": 3
   },
   "file_extension": ".py",
   "mimetype": "text/x-python",
   "name": "python",
   "nbconvert_exporter": "python",
   "pygments_lexer": "ipython3",
   "version": "3.8.0"
  },
  "orig_nbformat": 4
 },
 "nbformat": 4,
 "nbformat_minor": 2
}
