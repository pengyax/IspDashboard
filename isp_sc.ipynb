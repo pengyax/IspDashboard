{
 "cells": [
  {
   "cell_type": "code",
   "execution_count": 21,
   "metadata": {},
   "outputs": [],
   "source": [
    "import pandas as pd\n",
    "import numpy as np\n",
    "from datetime import datetime,timedelta\n",
    "import calendar"
   ]
  },
  {
   "cell_type": "code",
   "execution_count": 22,
   "metadata": {},
   "outputs": [],
   "source": [
    "df = pd.read_excel(r'C:\\Medline\\2. CPM\\3. ISP Complaints\\ISP Complaints Data 202001-202401.xlsx',sheet_name='ISP Combine')"
   ]
  },
  {
   "cell_type": "code",
   "execution_count": 23,
   "metadata": {},
   "outputs": [],
   "source": [
    "df = df.loc[df['Year'] >= 2022]"
   ]
  },
  {
   "cell_type": "code",
   "execution_count": 24,
   "metadata": {},
   "outputs": [],
   "source": [
    "vendor_mapping = pd.read_excel(r'C:\\Medline\\2. CPM\\data\\vendor_mapping\\Vendor _mapping 2024_v1.xlsx')\n",
    "vendor_mapping['Vendor Number'] = vendor_mapping['Vendor Number'].map(str)\n",
    "vendor_mapping_dict = dict(zip(vendor_mapping['Vendor Number'],vendor_mapping['Cleaned Vendor Name']))"
   ]
  },
  {
   "cell_type": "code",
   "execution_count": 25,
   "metadata": {},
   "outputs": [],
   "source": [
    "df_isp_buom_2022 = pd.read_excel(r'C:\\Medline\\2. CPM\\4. CPM by BUOM\\BUOM Database\\history\\ISP_ShippingData_2022.xlsx',usecols='A,C,D,AA,BD')\n",
    "df_isp_buom_2023 = pd.read_excel(r'C:\\Medline\\2. CPM\\4. CPM by BUOM\\BUOM Database\\history\\ISP_ShippingData_2023.xlsx',usecols='A,C,D,AA,BD')\n",
    "df_isp_buom_2024 = pd.read_excel(r'C:\\Medline\\2. CPM\\4. CPM by BUOM\\BUOM Database\\2024\\ISP\\ISP BUOM 202401.xlsx',usecols='A,B,C,Q,T')\n",
    "df_isp_buom = pd.concat([df_isp_buom_2024,df_isp_buom_2023,df_isp_buom_2022],ignore_index=True)\n",
    "df_isp_buom['VendorNumber'] = df_isp_buom['VendorNumber'].map(str)"
   ]
  },
  {
   "cell_type": "code",
   "execution_count": 26,
   "metadata": {},
   "outputs": [],
   "source": [
    "vendor_mapping_inspection = vendor_mapping.loc[(~vendor_mapping['Regional Manager'].isin(['Exemption','US vendor']))&(vendor_mapping['Regional Manager'].notnull()),'Vendor Number'].to_list()\n",
    "df_isp_buom = df_isp_buom.loc[df_isp_buom['VendorNumber'].isin(vendor_mapping_inspection)]\n",
    "df_isp_buom['VendorName'] = df_isp_buom['VendorNumber'].apply(lambda x : vendor_mapping_dict.get(x,np.nan))"
   ]
  },
  {
   "cell_type": "code",
   "execution_count": 27,
   "metadata": {},
   "outputs": [
    {
     "data": {
      "text/html": [
       "<div>\n",
       "<style scoped>\n",
       "    .dataframe tbody tr th:only-of-type {\n",
       "        vertical-align: middle;\n",
       "    }\n",
       "\n",
       "    .dataframe tbody tr th {\n",
       "        vertical-align: top;\n",
       "    }\n",
       "\n",
       "    .dataframe thead th {\n",
       "        text-align: right;\n",
       "    }\n",
       "</style>\n",
       "<table border=\"1\" class=\"dataframe\">\n",
       "  <thead>\n",
       "    <tr style=\"text-align: right;\">\n",
       "      <th></th>\n",
       "      <th>SourceERPInd</th>\n",
       "      <th>ProductDivisionCode</th>\n",
       "      <th>VendorNumber</th>\n",
       "      <th>BUOMShipmentQty</th>\n",
       "      <th>ShipmentDate</th>\n",
       "      <th>VendorName</th>\n",
       "    </tr>\n",
       "  </thead>\n",
       "  <tbody>\n",
       "    <tr>\n",
       "      <th>0</th>\n",
       "      <td>QADEU</td>\n",
       "      <td>21</td>\n",
       "      <td>147612</td>\n",
       "      <td>720.0</td>\n",
       "      <td>2024-01-11</td>\n",
       "      <td>LIANYUNGANG ANSON NON WOVEN PRODUC</td>\n",
       "    </tr>\n",
       "    <tr>\n",
       "      <th>1</th>\n",
       "      <td>QADEU</td>\n",
       "      <td>21</td>\n",
       "      <td>147612</td>\n",
       "      <td>720.0</td>\n",
       "      <td>2024-01-18</td>\n",
       "      <td>LIANYUNGANG ANSON NON WOVEN PRODUC</td>\n",
       "    </tr>\n",
       "    <tr>\n",
       "      <th>2</th>\n",
       "      <td>QADEU</td>\n",
       "      <td>21</td>\n",
       "      <td>147612</td>\n",
       "      <td>1440.0</td>\n",
       "      <td>2024-01-31</td>\n",
       "      <td>LIANYUNGANG ANSON NON WOVEN PRODUC</td>\n",
       "    </tr>\n",
       "    <tr>\n",
       "      <th>3</th>\n",
       "      <td>QADEU</td>\n",
       "      <td>15</td>\n",
       "      <td>147612</td>\n",
       "      <td>10000.0</td>\n",
       "      <td>2024-01-11</td>\n",
       "      <td>LIANYUNGANG ANSON NON WOVEN PRODUC</td>\n",
       "    </tr>\n",
       "    <tr>\n",
       "      <th>4</th>\n",
       "      <td>QADEU</td>\n",
       "      <td>15</td>\n",
       "      <td>147612</td>\n",
       "      <td>3750.0</td>\n",
       "      <td>2024-01-31</td>\n",
       "      <td>LIANYUNGANG ANSON NON WOVEN PRODUC</td>\n",
       "    </tr>\n",
       "    <tr>\n",
       "      <th>...</th>\n",
       "      <td>...</td>\n",
       "      <td>...</td>\n",
       "      <td>...</td>\n",
       "      <td>...</td>\n",
       "      <td>...</td>\n",
       "      <td>...</td>\n",
       "    </tr>\n",
       "    <tr>\n",
       "      <th>157479</th>\n",
       "      <td>SAPCA</td>\n",
       "      <td>40</td>\n",
       "      <td>130324</td>\n",
       "      <td>174000.0</td>\n",
       "      <td>2022-10-04</td>\n",
       "      <td>HONGRAY (USA) MEDICAL PRODUCTS INC</td>\n",
       "    </tr>\n",
       "    <tr>\n",
       "      <th>157480</th>\n",
       "      <td>SAPCA</td>\n",
       "      <td>40</td>\n",
       "      <td>130324</td>\n",
       "      <td>690000.0</td>\n",
       "      <td>2022-12-10</td>\n",
       "      <td>HONGRAY (USA) MEDICAL PRODUCTS INC</td>\n",
       "    </tr>\n",
       "    <tr>\n",
       "      <th>157481</th>\n",
       "      <td>SAPCA</td>\n",
       "      <td>40</td>\n",
       "      <td>130324</td>\n",
       "      <td>690000.0</td>\n",
       "      <td>2022-12-10</td>\n",
       "      <td>HONGRAY (USA) MEDICAL PRODUCTS INC</td>\n",
       "    </tr>\n",
       "    <tr>\n",
       "      <th>157482</th>\n",
       "      <td>SAPCA</td>\n",
       "      <td>40</td>\n",
       "      <td>122928</td>\n",
       "      <td>110000.0</td>\n",
       "      <td>2022-07-27</td>\n",
       "      <td>BETTER HEALTH MEDICAL PRODUCTS HONG</td>\n",
       "    </tr>\n",
       "    <tr>\n",
       "      <th>157483</th>\n",
       "      <td>SAPCA</td>\n",
       "      <td>40</td>\n",
       "      <td>122928</td>\n",
       "      <td>300000.0</td>\n",
       "      <td>2022-09-04</td>\n",
       "      <td>BETTER HEALTH MEDICAL PRODUCTS HONG</td>\n",
       "    </tr>\n",
       "  </tbody>\n",
       "</table>\n",
       "<p>152322 rows × 6 columns</p>\n",
       "</div>"
      ],
      "text/plain": [
       "       SourceERPInd  ProductDivisionCode VendorNumber  BUOMShipmentQty  \\\n",
       "0             QADEU                   21       147612            720.0   \n",
       "1             QADEU                   21       147612            720.0   \n",
       "2             QADEU                   21       147612           1440.0   \n",
       "3             QADEU                   15       147612          10000.0   \n",
       "4             QADEU                   15       147612           3750.0   \n",
       "...             ...                  ...          ...              ...   \n",
       "157479        SAPCA                   40       130324         174000.0   \n",
       "157480        SAPCA                   40       130324         690000.0   \n",
       "157481        SAPCA                   40       130324         690000.0   \n",
       "157482        SAPCA                   40       122928         110000.0   \n",
       "157483        SAPCA                   40       122928         300000.0   \n",
       "\n",
       "       ShipmentDate                           VendorName  \n",
       "0        2024-01-11   LIANYUNGANG ANSON NON WOVEN PRODUC  \n",
       "1        2024-01-18   LIANYUNGANG ANSON NON WOVEN PRODUC  \n",
       "2        2024-01-31   LIANYUNGANG ANSON NON WOVEN PRODUC  \n",
       "3        2024-01-11   LIANYUNGANG ANSON NON WOVEN PRODUC  \n",
       "4        2024-01-31   LIANYUNGANG ANSON NON WOVEN PRODUC  \n",
       "...             ...                                  ...  \n",
       "157479   2022-10-04   HONGRAY (USA) MEDICAL PRODUCTS INC  \n",
       "157480   2022-12-10   HONGRAY (USA) MEDICAL PRODUCTS INC  \n",
       "157481   2022-12-10   HONGRAY (USA) MEDICAL PRODUCTS INC  \n",
       "157482   2022-07-27  BETTER HEALTH MEDICAL PRODUCTS HONG  \n",
       "157483   2022-09-04  BETTER HEALTH MEDICAL PRODUCTS HONG  \n",
       "\n",
       "[152322 rows x 6 columns]"
      ]
     },
     "execution_count": 27,
     "metadata": {},
     "output_type": "execute_result"
    }
   ],
   "source": [
    "df_isp_buom"
   ]
  },
  {
   "cell_type": "code",
   "execution_count": 28,
   "metadata": {},
   "outputs": [],
   "source": [
    "df_isp_buom.rename(columns={'SourceERPInd': 'Market',\n",
    "                            'ProductDivisionCode':'Division',\n",
    "                            'BUOMShipmentQty':'BUOM'\n",
    "                            }, inplace=True)\n",
    "df_isp_buom['Year'] = df_isp_buom['ShipmentDate'].dt.year\n",
    "df_isp_buom['Month'] = df_isp_buom['ShipmentDate'].dt.month\n",
    "df_isp_buom['Market'].replace({'QADEU':'EU',\n",
    "                                'MFGEU':'EU',\n",
    "                                'QADAU':'ANZ',\n",
    "                                'QADJP':'JAPAN'},inplace=True)\n",
    "df_isp_buom = df_isp_buom.loc[df_isp_buom['Market'].isin(['EU','ANZ','JAPAN'])]"
   ]
  },
  {
   "cell_type": "code",
   "execution_count": 29,
   "metadata": {},
   "outputs": [],
   "source": [
    "df_isp_buom_gy = df_isp_buom.groupby(['Market','VendorName','Division','Year','Month'],as_index=False)['BUOM'].sum()"
   ]
  },
  {
   "cell_type": "code",
   "execution_count": 30,
   "metadata": {},
   "outputs": [
    {
     "data": {
      "text/html": [
       "<div>\n",
       "<style scoped>\n",
       "    .dataframe tbody tr th:only-of-type {\n",
       "        vertical-align: middle;\n",
       "    }\n",
       "\n",
       "    .dataframe tbody tr th {\n",
       "        vertical-align: top;\n",
       "    }\n",
       "\n",
       "    .dataframe thead th {\n",
       "        text-align: right;\n",
       "    }\n",
       "</style>\n",
       "<table border=\"1\" class=\"dataframe\">\n",
       "  <thead>\n",
       "    <tr style=\"text-align: right;\">\n",
       "      <th></th>\n",
       "      <th>Market</th>\n",
       "      <th>VendorName</th>\n",
       "      <th>Division</th>\n",
       "      <th>Year</th>\n",
       "      <th>Month</th>\n",
       "      <th>BUOM</th>\n",
       "    </tr>\n",
       "  </thead>\n",
       "  <tbody>\n",
       "    <tr>\n",
       "      <th>3818</th>\n",
       "      <td>JAPAN</td>\n",
       "      <td>COBES INDUSTRIES CO LTD</td>\n",
       "      <td>21</td>\n",
       "      <td>2022</td>\n",
       "      <td>9</td>\n",
       "      <td>0.0</td>\n",
       "    </tr>\n",
       "    <tr>\n",
       "      <th>3819</th>\n",
       "      <td>JAPAN</td>\n",
       "      <td>COBES INDUSTRIES CO LTD</td>\n",
       "      <td>21</td>\n",
       "      <td>2022</td>\n",
       "      <td>10</td>\n",
       "      <td>0.0</td>\n",
       "    </tr>\n",
       "    <tr>\n",
       "      <th>3820</th>\n",
       "      <td>JAPAN</td>\n",
       "      <td>COBES INDUSTRIES CO LTD</td>\n",
       "      <td>21</td>\n",
       "      <td>2022</td>\n",
       "      <td>12</td>\n",
       "      <td>0.0</td>\n",
       "    </tr>\n",
       "    <tr>\n",
       "      <th>3821</th>\n",
       "      <td>JAPAN</td>\n",
       "      <td>COBES INDUSTRIES CO LTD</td>\n",
       "      <td>21</td>\n",
       "      <td>2023</td>\n",
       "      <td>4</td>\n",
       "      <td>0.0</td>\n",
       "    </tr>\n",
       "    <tr>\n",
       "      <th>3822</th>\n",
       "      <td>JAPAN</td>\n",
       "      <td>COBES INDUSTRIES CO LTD</td>\n",
       "      <td>21</td>\n",
       "      <td>2023</td>\n",
       "      <td>10</td>\n",
       "      <td>0.0</td>\n",
       "    </tr>\n",
       "    <tr>\n",
       "      <th>4168</th>\n",
       "      <td>JAPAN</td>\n",
       "      <td>HONGRAY (USA) MEDICAL PRODUCTS INC</td>\n",
       "      <td>21</td>\n",
       "      <td>2022</td>\n",
       "      <td>1</td>\n",
       "      <td>0.0</td>\n",
       "    </tr>\n",
       "    <tr>\n",
       "      <th>4221</th>\n",
       "      <td>JAPAN</td>\n",
       "      <td>JIE GAO PLASTICS PRODUCTS CO LTD</td>\n",
       "      <td>15</td>\n",
       "      <td>2022</td>\n",
       "      <td>5</td>\n",
       "      <td>0.0</td>\n",
       "    </tr>\n",
       "    <tr>\n",
       "      <th>4222</th>\n",
       "      <td>JAPAN</td>\n",
       "      <td>JIE GAO PLASTICS PRODUCTS CO LTD</td>\n",
       "      <td>15</td>\n",
       "      <td>2023</td>\n",
       "      <td>9</td>\n",
       "      <td>0.0</td>\n",
       "    </tr>\n",
       "    <tr>\n",
       "      <th>4752</th>\n",
       "      <td>JAPAN</td>\n",
       "      <td>ZHEJIANG BEAUTY AND HEALTH ELECTRIC</td>\n",
       "      <td>15</td>\n",
       "      <td>2023</td>\n",
       "      <td>5</td>\n",
       "      <td>0.0</td>\n",
       "    </tr>\n",
       "  </tbody>\n",
       "</table>\n",
       "</div>"
      ],
      "text/plain": [
       "     Market                           VendorName  Division  Year  Month  BUOM\n",
       "3818  JAPAN              COBES INDUSTRIES CO LTD        21  2022      9   0.0\n",
       "3819  JAPAN              COBES INDUSTRIES CO LTD        21  2022     10   0.0\n",
       "3820  JAPAN              COBES INDUSTRIES CO LTD        21  2022     12   0.0\n",
       "3821  JAPAN              COBES INDUSTRIES CO LTD        21  2023      4   0.0\n",
       "3822  JAPAN              COBES INDUSTRIES CO LTD        21  2023     10   0.0\n",
       "4168  JAPAN   HONGRAY (USA) MEDICAL PRODUCTS INC        21  2022      1   0.0\n",
       "4221  JAPAN     JIE GAO PLASTICS PRODUCTS CO LTD        15  2022      5   0.0\n",
       "4222  JAPAN     JIE GAO PLASTICS PRODUCTS CO LTD        15  2023      9   0.0\n",
       "4752  JAPAN  ZHEJIANG BEAUTY AND HEALTH ELECTRIC        15  2023      5   0.0"
      ]
     },
     "execution_count": 30,
     "metadata": {},
     "output_type": "execute_result"
    }
   ],
   "source": [
    "df_isp_buom_gy[df_isp_buom_gy['BUOM']==0]"
   ]
  },
  {
   "cell_type": "code",
   "execution_count": 31,
   "metadata": {},
   "outputs": [],
   "source": [
    "df_gy = df.groupby(['Market','Vendor Name','Division','Year','Month'],as_index=False).size()\n",
    "df_gy.rename(columns={'Vendor Name':'VendorName'},inplace=True)"
   ]
  },
  {
   "cell_type": "code",
   "execution_count": 32,
   "metadata": {},
   "outputs": [
    {
     "data": {
      "text/html": [
       "<div>\n",
       "<style scoped>\n",
       "    .dataframe tbody tr th:only-of-type {\n",
       "        vertical-align: middle;\n",
       "    }\n",
       "\n",
       "    .dataframe tbody tr th {\n",
       "        vertical-align: top;\n",
       "    }\n",
       "\n",
       "    .dataframe thead th {\n",
       "        text-align: right;\n",
       "    }\n",
       "</style>\n",
       "<table border=\"1\" class=\"dataframe\">\n",
       "  <thead>\n",
       "    <tr style=\"text-align: right;\">\n",
       "      <th></th>\n",
       "      <th>Market</th>\n",
       "      <th>VendorName</th>\n",
       "      <th>Division</th>\n",
       "      <th>Year</th>\n",
       "      <th>Month</th>\n",
       "      <th>size</th>\n",
       "    </tr>\n",
       "  </thead>\n",
       "  <tbody>\n",
       "  </tbody>\n",
       "</table>\n",
       "</div>"
      ],
      "text/plain": [
       "Empty DataFrame\n",
       "Columns: [Market, VendorName, Division, Year, Month, size]\n",
       "Index: []"
      ]
     },
     "execution_count": 32,
     "metadata": {},
     "output_type": "execute_result"
    }
   ],
   "source": [
    "df_gy[df_gy['size']==0]"
   ]
  },
  {
   "cell_type": "code",
   "execution_count": 33,
   "metadata": {},
   "outputs": [],
   "source": [
    "df_output = df_isp_buom_gy.merge(df_gy,how='outer',on=['Market','VendorName','Division','Year','Month']).fillna(0)"
   ]
  },
  {
   "cell_type": "code",
   "execution_count": 34,
   "metadata": {},
   "outputs": [],
   "source": [
    "df_output['Year'] = df_output['Year'].astype(str)\n",
    "df_output['Month'] = df_output['Month'].astype(str)"
   ]
  },
  {
   "cell_type": "code",
   "execution_count": 35,
   "metadata": {},
   "outputs": [],
   "source": [
    "df_output['Date'] =  pd.to_datetime(df_output['Year'] + df_output['Month'], format='%Y%m')"
   ]
  },
  {
   "cell_type": "code",
   "execution_count": 36,
   "metadata": {},
   "outputs": [],
   "source": [
    "df_output.rename(columns={'size':'Complaints'},inplace=True)\n",
    "df_output = df_output[['Market','VendorName','Division','Date','Year','Month','Complaints','BUOM']]"
   ]
  },
  {
   "cell_type": "code",
   "execution_count": 38,
   "metadata": {},
   "outputs": [],
   "source": [
    "df_output.to_excel('df_output.xlsx',index=False)"
   ]
  },
  {
   "cell_type": "code",
   "execution_count": null,
   "metadata": {},
   "outputs": [],
   "source": []
  }
 ],
 "metadata": {
  "kernelspec": {
   "display_name": "Python 3",
   "language": "python",
   "name": "python3"
  },
  "language_info": {
   "codemirror_mode": {
    "name": "ipython",
    "version": 3
   },
   "file_extension": ".py",
   "mimetype": "text/x-python",
   "name": "python",
   "nbconvert_exporter": "python",
   "pygments_lexer": "ipython3",
   "version": "3.8.0"
  },
  "orig_nbformat": 4
 },
 "nbformat": 4,
 "nbformat_minor": 2
}
